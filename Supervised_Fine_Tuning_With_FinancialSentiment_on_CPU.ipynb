{
  "nbformat": 4,
  "nbformat_minor": 0,
  "metadata": {
    "colab": {
      "provenance": [],
      "authorship_tag": "ABX9TyPw5WAE0Oo55tDRfsey+t2y",
      "include_colab_link": true
    },
    "kernelspec": {
      "name": "python3",
      "display_name": "Python 3"
    },
    "language_info": {
      "name": "python"
    }
  },
  "cells": [
    {
      "cell_type": "markdown",
      "metadata": {
        "id": "view-in-github",
        "colab_type": "text"
      },
      "source": [
        "<a href=\"https://colab.research.google.com/github/swati-git/FineTuneLLM/blob/main/Supervised_Fine_Tuning_With_FinancialSentiment_on_CPU.ipynb\" target=\"_parent\"><img src=\"https://colab.research.google.com/assets/colab-badge.svg\" alt=\"Open In Colab\"/></a>"
      ]
    },
    {
      "cell_type": "code",
      "source": [
        "!pip install transformers>=4.46.0"
      ],
      "metadata": {
        "id": "9Dh4V5ujJ7LZ"
      },
      "execution_count": null,
      "outputs": []
    },
    {
      "cell_type": "code",
      "source": [
        "!pip install pipdeptree"
      ],
      "metadata": {
        "id": "pYnhGcwxK_oo"
      },
      "execution_count": null,
      "outputs": []
    },
    {
      "cell_type": "code",
      "source": [
        "!pipdeptree --packages transformers\n",
        "\n",
        "# For reverse dependencies (what depends on this package)\n",
        "#!pipdeptree -r --packages transformers"
      ],
      "metadata": {
        "id": "Z7aF8ESeLLqm"
      },
      "execution_count": null,
      "outputs": []
    },
    {
      "cell_type": "code",
      "source": [
        "#!pip freeze | grep transformers"
      ],
      "metadata": {
        "id": "uTSK-DIuKXvC"
      },
      "execution_count": null,
      "outputs": []
    },
    {
      "cell_type": "code",
      "source": [
        "from transformers import AutoModelForCausalLM, AutoTokenizer\n",
        "import torch\n",
        "\n",
        "model = AutoModelForCausalLM.from_pretrained(\n",
        "    \"facebook/OPT-1.3b\",\n",
        "    torch_dtype=torch.bfloat16,\n",
        ")\n",
        "\n",
        "tokenizer = AutoTokenizer.from_pretrained(\n",
        "    \"facebook/OPT-1.3b\"\n",
        "    )"
      ],
      "metadata": {
        "id": "6Cv3PidoMQsq"
      },
      "execution_count": null,
      "outputs": []
    },
    {
      "cell_type": "markdown",
      "source": [
        "**Initialize the training dataset using**\n",
        "[Financial Sentiment Data](hub://genai360/FingGPT-sentiment-train-set)"
      ],
      "metadata": {
        "id": "9Ms_MbKmPq4q"
      }
    },
    {
      "cell_type": "code",
      "source": [
        "!pip install deeplake==3.6.19"
      ],
      "metadata": {
        "id": "WOHDKJgiQtIK"
      },
      "execution_count": null,
      "outputs": []
    },
    {
      "cell_type": "code",
      "source": [
        "import deeplake\n",
        "\n",
        "ds = deeplake.load('hub://genai360/FingGPT-sentiment-train-set')\n",
        "ds"
      ],
      "metadata": {
        "id": "52SIGnG9Qalt"
      },
      "execution_count": null,
      "outputs": []
    },
    {
      "cell_type": "code",
      "source": [
        "!pip install trl==0.15.2"
      ],
      "metadata": {
        "id": "ZNIsOM65Jq_c"
      },
      "execution_count": null,
      "outputs": []
    },
    {
      "cell_type": "code",
      "execution_count": null,
      "metadata": {
        "id": "9q2VGPbFJPxK"
      },
      "outputs": [],
      "source": [
        "from trl import SFTTrainer\n",
        "\n",
        "trainer = SFTTrainer(\n",
        "    model=model,\n",
        "    args=training_args,\n",
        "    train_dataset=train_dataset,\n",
        "    eval_dataset=eval_dataset,\n",
        "    peft_config=lora_config,\n",
        "    packing=True,\n",
        ")"
      ]
    }
  ]
}